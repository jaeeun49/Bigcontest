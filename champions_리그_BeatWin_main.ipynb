{
 "cells": [
  {
   "cell_type": "markdown",
   "metadata": {
    "ExecuteTime": {
     "end_time": "2019-09-10T08:18:16.446435Z",
     "start_time": "2019-09-10T08:18:16.442509Z"
    }
   },
   "source": [
    "<img src=\"./etc/main_image.png\" alt=\"datetime\" style=\"width: 1000px;\"/>"
   ]
  },
  {
   "cell_type": "markdown",
   "metadata": {},
   "source": [
    "# Beatwin 재현성코드\n",
    "\n",
    "순서대로 실행하시면 됩니다. \n"
   ]
  },
  {
   "cell_type": "code",
   "execution_count": 1,
   "metadata": {
    "ExecuteTime": {
     "end_time": "2019-09-16T08:34:20.158727Z",
     "start_time": "2019-09-16T08:34:18.284675Z"
    }
   },
   "outputs": [
    {
     "name": "stdout",
     "output_type": "stream",
     "text": [
      "Requirement already satisfied: numpy in /Users/hwesungryu/anaconda3/envs/tensorflow/lib/python3.6/site-packages (from -r ./etc/requirements.txt (line 3)) (1.17.0)\n",
      "Requirement already satisfied: pandas in /Users/hwesungryu/anaconda3/envs/tensorflow/lib/python3.6/site-packages (from -r ./etc/requirements.txt (line 4)) (0.25.1)\n",
      "Requirement already satisfied: scikit-learn in /Users/hwesungryu/anaconda3/envs/tensorflow/lib/python3.6/site-packages (from -r ./etc/requirements.txt (line 5)) (0.21.3)\n",
      "Requirement already satisfied: sklearn in /Users/hwesungryu/anaconda3/envs/tensorflow/lib/python3.6/site-packages (from -r ./etc/requirements.txt (line 6)) (0.0)\n",
      "Requirement already satisfied: lightgbm in /Users/hwesungryu/anaconda3/envs/tensorflow/lib/python3.6/site-packages (from -r ./etc/requirements.txt (line 7)) (2.2.3)\n",
      "Requirement already satisfied: xgboost in /Users/hwesungryu/anaconda3/envs/tensorflow/lib/python3.6/site-packages (from -r ./etc/requirements.txt (line 8)) (0.90)\n",
      "Requirement already satisfied: tqdm in /Users/hwesungryu/anaconda3/envs/tensorflow/lib/python3.6/site-packages (from -r ./etc/requirements.txt (line 9)) (4.28.1)\n",
      "Requirement already satisfied: python-dateutil>=2.6.1 in /Users/hwesungryu/anaconda3/envs/tensorflow/lib/python3.6/site-packages (from pandas->-r ./etc/requirements.txt (line 4)) (2.7.3)\n",
      "Requirement already satisfied: pytz>=2017.2 in /Users/hwesungryu/anaconda3/envs/tensorflow/lib/python3.6/site-packages (from pandas->-r ./etc/requirements.txt (line 4)) (2018.5)\n",
      "Requirement already satisfied: scipy>=0.17.0 in /Users/hwesungryu/anaconda3/envs/tensorflow/lib/python3.6/site-packages (from scikit-learn->-r ./etc/requirements.txt (line 5)) (1.2.2)\n",
      "Requirement already satisfied: joblib>=0.11 in /Users/hwesungryu/anaconda3/envs/tensorflow/lib/python3.6/site-packages (from scikit-learn->-r ./etc/requirements.txt (line 5)) (0.13.0)\n",
      "Requirement already satisfied: six>=1.5 in /Users/hwesungryu/anaconda3/envs/tensorflow/lib/python3.6/site-packages (from python-dateutil>=2.6.1->pandas->-r ./etc/requirements.txt (line 4)) (1.12.0)\n",
      "\u001b[33mWARNING: You are using pip version 19.2.2, however version 19.2.3 is available.\n",
      "You should consider upgrading via the 'pip install --upgrade pip' command.\u001b[0m\n"
     ]
    }
   ],
   "source": [
    "import warnings\n",
    "warnings.filterwarnings(\"ignore\")\n",
    "\n",
    "# Install prerequisites\n",
    "!pip install -r ./etc/requirements.txt"
   ]
  },
  {
   "cell_type": "code",
   "execution_count": null,
   "metadata": {
    "ExecuteTime": {
     "start_time": "2019-09-16T08:34:20.795Z"
    }
   },
   "outputs": [
    {
     "name": "stderr",
     "output_type": "stream",
     "text": [
      "Duplicate key in file '/Users/hwesungryu/.matplotlib/matplotlibrc' line #2.\n",
      "Duplicate key in file '/Users/hwesungryu/.matplotlib/matplotlibrc' line #3.\n"
     ]
    },
    {
     "name": "stdout",
     "output_type": "stream",
     "text": [
      "Namespace(mode='train')\n",
      "--- START making train features !!! --- \n",
      "[ STEP 1 / STEP 3 ] Integral all DataFrame which served by NC_soft\n"
     ]
    },
    {
     "name": "stderr",
     "output_type": "stream",
     "text": [
      "100%|██████████| 5380/5380 [00:12<00:00, 421.71it/s]\n",
      "  7%|▋         | 107758/1601834 [00:07<00:46, 31824.97it/s]"
     ]
    }
   ],
   "source": [
    "# STEP1 Preprocess \n",
    "\n",
    "# 1. train \n",
    "# Final_DataFrame's shape will be (40000, 217)\n",
    "%run ./Preprocess/preprocess.py --mode train"
   ]
  },
  {
   "cell_type": "code",
   "execution_count": 4,
   "metadata": {
    "ExecuteTime": {
     "end_time": "2019-09-10T08:38:50.063137Z",
     "start_time": "2019-09-10T08:35:10.670654Z"
    }
   },
   "outputs": [
    {
     "name": "stdout",
     "output_type": "stream",
     "text": [
      "Namespace(mode='test1')\n",
      "--- START making test1 features !!! --- \n",
      "[ STEP 1 / STEP 3 ] Integral all DataFrame which served by NC_soft\n"
     ]
    },
    {
     "name": "stderr",
     "output_type": "stream",
     "text": [
      "100%|██████████| 3108/3108 [00:04<00:00, 624.29it/s]\n",
      "100%|██████████| 709928/709928 [00:45<00:00, 15466.63it/s]\n",
      "100%|██████████| 3108/3108 [00:04<00:00, 698.05it/s]\n",
      "100%|██████████| 709928/709928 [00:45<00:00, 15538.68it/s]\n"
     ]
    },
    {
     "name": "stdout",
     "output_type": "stream",
     "text": [
      "[ STEP 2 / STEP 3 ] make activity, combat, pledge, trade, payment DataFrame\n",
      "--- Activity Process Done ---\n"
     ]
    },
    {
     "name": "stderr",
     "output_type": "stream",
     "text": [
      "100%|██████████| 20000/20000 [00:20<00:00, 972.91it/s] \n",
      "100%|██████████| 20000/20000 [00:27<00:00, 736.80it/s]\n",
      "100%|██████████| 20000/20000 [00:08<00:00, 2416.03it/s]\n",
      "  6%|▌         | 2/36 [00:00<00:01, 17.96it/s]"
     ]
    },
    {
     "name": "stdout",
     "output_type": "stream",
     "text": [
      "--- Combat Process Done ---\n"
     ]
    },
    {
     "name": "stderr",
     "output_type": "stream",
     "text": [
      "100%|██████████| 36/36 [00:01<00:00, 20.85it/s]\n",
      "100%|██████████| 36/36 [00:02<00:00, 14.44it/s]\n",
      " 12%|█▏        | 4/33 [00:00<00:00, 34.17it/s]"
     ]
    },
    {
     "name": "stdout",
     "output_type": "stream",
     "text": [
      "--- pledge_total generated---\n"
     ]
    },
    {
     "name": "stderr",
     "output_type": "stream",
     "text": [
      "100%|██████████| 33/33 [00:00<00:00, 34.94it/s]\n"
     ]
    },
    {
     "name": "stdout",
     "output_type": "stream",
     "text": [
      "--- pledge Process Done ---\n",
      "--- Trade_df Process Done ---\n",
      "--- Payment_df Process Done ---\n",
      "[ STEP 31 / STEP 3 ] Merge all DataFrame\n",
      "Final_DataFrame's shape (20000, 217)\n",
      "--- test1_preprocess.csv were created !!! --- \n"
     ]
    }
   ],
   "source": [
    "# 2. test1 \n",
    "# Final_DataFrame's shape will be (20000, 217)\n",
    "%run ./Preprocess/preprocess.py --mode test1"
   ]
  },
  {
   "cell_type": "code",
   "execution_count": 5,
   "metadata": {
    "ExecuteTime": {
     "end_time": "2019-09-10T08:47:29.014388Z",
     "start_time": "2019-09-10T08:38:50.065329Z"
    }
   },
   "outputs": [
    {
     "name": "stdout",
     "output_type": "stream",
     "text": [
      "Namespace(mode='test2')\n",
      "--- START making test2 features !!! --- \n",
      "[ STEP 1 / STEP 3 ] Integral all DataFrame which served by NC_soft\n"
     ]
    },
    {
     "name": "stderr",
     "output_type": "stream",
     "text": [
      "100%|██████████| 6568/6568 [00:10<00:00, 654.20it/s]\n",
      "100%|██████████| 761888/761888 [03:06<00:00, 4091.24it/s] \n",
      "100%|██████████| 6568/6568 [00:10<00:00, 649.87it/s]\n",
      "100%|██████████| 761888/761888 [03:06<00:00, 4076.02it/s] \n"
     ]
    },
    {
     "name": "stdout",
     "output_type": "stream",
     "text": [
      "[ STEP 2 / STEP 3 ] make activity, combat, pledge, trade, payment DataFrame\n",
      "--- Activity Process Done ---\n"
     ]
    },
    {
     "name": "stderr",
     "output_type": "stream",
     "text": [
      "100%|██████████| 20000/20000 [00:21<00:00, 935.17it/s] \n",
      "100%|██████████| 20000/20000 [00:27<00:00, 720.46it/s]\n",
      "100%|██████████| 20000/20000 [00:08<00:00, 2344.11it/s]\n",
      "  5%|▍         | 2/42 [00:00<00:02, 16.43it/s]"
     ]
    },
    {
     "name": "stdout",
     "output_type": "stream",
     "text": [
      "--- Combat Process Done ---\n"
     ]
    },
    {
     "name": "stderr",
     "output_type": "stream",
     "text": [
      "100%|██████████| 42/42 [00:02<00:00, 18.59it/s]\n",
      "100%|██████████| 42/42 [00:03<00:00, 13.48it/s]\n",
      "  8%|▊         | 3/36 [00:00<00:01, 27.60it/s]"
     ]
    },
    {
     "name": "stdout",
     "output_type": "stream",
     "text": [
      "--- pledge_total generated---\n"
     ]
    },
    {
     "name": "stderr",
     "output_type": "stream",
     "text": [
      "100%|██████████| 36/36 [00:01<00:00, 33.36it/s]\n"
     ]
    },
    {
     "name": "stdout",
     "output_type": "stream",
     "text": [
      "--- pledge Process Done ---\n",
      "--- Trade_df Process Done ---\n",
      "--- Payment_df Process Done ---\n",
      "[ STEP 31 / STEP 3 ] Merge all DataFrame\n",
      "Final_DataFrame's shape (20000, 217)\n",
      "--- test2_preprocess.csv were created !!! --- \n"
     ]
    }
   ],
   "source": [
    "# 3. test2\n",
    "# Final_DataFrame's shape will be (20000, 217)\n",
    "\n",
    "%run ./Preprocess/preprocess.py --mode test2"
   ]
  },
  {
   "cell_type": "code",
   "execution_count": 1,
   "metadata": {
    "ExecuteTime": {
     "end_time": "2019-09-10T09:00:16.987463Z",
     "start_time": "2019-09-10T08:48:00.700977Z"
    }
   },
   "outputs": [
    {
     "name": "stderr",
     "output_type": "stream",
     "text": [
      "Duplicate key in file '/Users/hwesungryu/.matplotlib/matplotlibrc' line #2.\n",
      "Duplicate key in file '/Users/hwesungryu/.matplotlib/matplotlibrc' line #3.\n",
      "/Users/hwesungryu/anaconda3/envs/tensorflow/lib/python3.6/site-packages/lightgbm/__init__.py:46: UserWarning: Starting from version 2.2.1, the library file in distribution wheels for macOS is built by the Apple Clang (Xcode_8.3.3) compiler.\n",
      "This means that in case of installing LightGBM from PyPI via the ``pip install lightgbm`` command, you don't need to install the gcc compiler anymore.\n",
      "Instead of that, you need to install the OpenMP library, which is required for running LightGBM on the system with the Apple Clang compiler.\n",
      "You can install the OpenMP library by the following command: ``brew install libomp``.\n",
      "  \"You can install the OpenMP library by the following command: ``brew install libomp``.\", UserWarning)\n"
     ]
    },
    {
     "name": "stdout",
     "output_type": "stream",
     "text": [
      "Namespace(mode='train')\n",
      "--- START create_model.py of train !!! --- \n"
     ]
    },
    {
     "name": "stderr",
     "output_type": "stream",
     "text": [
      "/Users/hwesungryu/anaconda3/envs/tensorflow/lib/python3.6/site-packages/xgboost/core.py:587: FutureWarning: Series.base is deprecated and will be removed in a future version\n",
      "  if getattr(data, 'base', None) is not None and \\\n",
      "/Users/hwesungryu/anaconda3/envs/tensorflow/lib/python3.6/site-packages/xgboost/core.py:588: FutureWarning: Series.base is deprecated and will be removed in a future version\n",
      "  data.base is not None and isinstance(data, np.ndarray) \\\n"
     ]
    },
    {
     "name": "stdout",
     "output_type": "stream",
     "text": [
      "[17:51:01] WARNING: src/objective/regression_obj.cu:152: reg:linear is now deprecated in favor of reg:squarederror.\n"
     ]
    },
    {
     "name": "stderr",
     "output_type": "stream",
     "text": [
      "/Users/hwesungryu/anaconda3/envs/tensorflow/lib/python3.6/site-packages/sklearn/ensemble/forest.py:245: FutureWarning: The default value of n_estimators will change from 10 in version 0.20 to 100 in 0.22.\n",
      "  \"10 in version 0.20 to 100 in 0.22.\", FutureWarning)\n"
     ]
    },
    {
     "name": "stdout",
     "output_type": "stream",
     "text": [
      "create_model.py has been made\n"
     ]
    }
   ],
   "source": [
    "# STEP2 Model \n",
    "\n",
    "%run ./Model/create_model.py"
   ]
  },
  {
   "cell_type": "code",
   "execution_count": 3,
   "metadata": {
    "ExecuteTime": {
     "end_time": "2019-09-10T09:07:44.047228Z",
     "start_time": "2019-09-10T09:07:29.753734Z"
    }
   },
   "outputs": [
    {
     "name": "stdout",
     "output_type": "stream",
     "text": [
      "START survival time__predict\n",
      "[18:07:31] WARNING: src/objective/regression_obj.cu:152: reg:linear is now deprecated in favor of reg:squarederror.\n"
     ]
    },
    {
     "name": "stderr",
     "output_type": "stream",
     "text": [
      "/Users/hwesungryu/Documents/beatwin/Predict/predict.py:85: SettingWithCopyWarning: \n",
      "A value is trying to be set on a copy of a slice from a DataFrame.\n",
      "Try using .loc[row_indexer,col_indexer] = value instead\n",
      "\n",
      "See the caveats in the documentation: http://pandas.pydata.org/pandas-docs/stable/user_guide/indexing.html#returning-a-view-versus-a-copy\n",
      "  predict1_sur['survival_time'] = 64\n",
      "/Users/hwesungryu/Documents/beatwin/Predict/predict.py:89: SettingWithCopyWarning: \n",
      "A value is trying to be set on a copy of a slice from a DataFrame.\n",
      "Try using .loc[row_indexer,col_indexer] = value instead\n",
      "\n",
      "See the caveats in the documentation: http://pandas.pydata.org/pandas-docs/stable/user_guide/indexing.html#returning-a-view-versus-a-copy\n",
      "  predict2_sur['survival_time'] = 64\n"
     ]
    },
    {
     "name": "stdout",
     "output_type": "stream",
     "text": [
      "END survival time__predict\n",
      "START Amount spent predict\n",
      "test1_predict.csv and test2_predict.csv have been made\n"
     ]
    }
   ],
   "source": [
    "# STEP3 Predict\n",
    "\n",
    "%run ./Predict/predict.py"
   ]
  },
  {
   "cell_type": "code",
   "execution_count": null,
   "metadata": {},
   "outputs": [],
   "source": []
  }
 ],
 "metadata": {
  "kernelspec": {
   "display_name": "Python 3",
   "language": "python",
   "name": "python3"
  },
  "language_info": {
   "codemirror_mode": {
    "name": "ipython",
    "version": 3
   },
   "file_extension": ".py",
   "mimetype": "text/x-python",
   "name": "python",
   "nbconvert_exporter": "python",
   "pygments_lexer": "ipython3",
   "version": "3.6.7"
  },
  "toc": {
   "base_numbering": 1,
   "nav_menu": {},
   "number_sections": true,
   "sideBar": true,
   "skip_h1_title": false,
   "title_cell": "Table of Contents",
   "title_sidebar": "Contents",
   "toc_cell": false,
   "toc_position": {},
   "toc_section_display": true,
   "toc_window_display": false
  }
 },
 "nbformat": 4,
 "nbformat_minor": 2
}
