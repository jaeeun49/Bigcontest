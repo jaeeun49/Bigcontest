{
 "cells": [
  {
   "cell_type": "markdown",
   "metadata": {
    "ExecuteTime": {
     "end_time": "2019-09-10T08:18:16.446435Z",
     "start_time": "2019-09-10T08:18:16.442509Z"
    }
   },
   "source": [
    "<img src=\"./etc/main_image.png\" alt=\"datetime\" style=\"width: 1000px;\"/>"
   ]
  },
  {
   "cell_type": "markdown",
   "metadata": {},
   "source": [
    "# Beatwin 재현성코드\n",
    "\n",
    "순서대로 실행하시면 됩니다. \n"
   ]
  },
  {
   "cell_type": "code",
   "execution_count": 1,
   "metadata": {
    "ExecuteTime": {
     "end_time": "2019-09-16T08:34:20.158727Z",
     "start_time": "2019-09-16T08:34:18.284675Z"
    }
   },
   "outputs": [
    {
     "name": "stdout",
     "output_type": "stream",
     "text": [
      "Requirement already satisfied: numpy in c:\\users\\user\\anaconda3\\lib\\site-packages (from -r ./etc/requirements.txt (line 3)) (1.20.1)\n",
      "Requirement already satisfied: pandas in c:\\users\\user\\anaconda3\\lib\\site-packages (from -r ./etc/requirements.txt (line 4)) (1.2.4)\n",
      "Requirement already satisfied: scikit-learn in c:\\users\\user\\anaconda3\\lib\\site-packages (from -r ./etc/requirements.txt (line 5)) (0.24.1)\n",
      "Collecting sklearn\n",
      "  Downloading sklearn-0.0.tar.gz (1.1 kB)\n",
      "Requirement already satisfied: lightgbm in c:\\users\\user\\anaconda3\\lib\\site-packages (from -r ./etc/requirements.txt (line 7)) (3.2.1)\n",
      "Requirement already satisfied: xgboost in c:\\users\\user\\anaconda3\\lib\\site-packages (from -r ./etc/requirements.txt (line 8)) (1.4.2)\n",
      "Requirement already satisfied: tqdm in c:\\users\\user\\anaconda3\\lib\\site-packages (from -r ./etc/requirements.txt (line 9)) (4.59.0)\n",
      "Requirement already satisfied: wheel in c:\\users\\user\\anaconda3\\lib\\site-packages (from lightgbm->-r ./etc/requirements.txt (line 7)) (0.36.2)\n",
      "Requirement already satisfied: scipy in c:\\users\\user\\anaconda3\\lib\\site-packages (from lightgbm->-r ./etc/requirements.txt (line 7)) (1.6.2)\n",
      "Requirement already satisfied: joblib>=0.11 in c:\\users\\user\\anaconda3\\lib\\site-packages (from scikit-learn->-r ./etc/requirements.txt (line 5)) (1.0.1)\n",
      "Requirement already satisfied: threadpoolctl>=2.0.0 in c:\\users\\user\\anaconda3\\lib\\site-packages (from scikit-learn->-r ./etc/requirements.txt (line 5)) (2.1.0)\n",
      "Requirement already satisfied: pytz>=2017.3 in c:\\users\\user\\anaconda3\\lib\\site-packages (from pandas->-r ./etc/requirements.txt (line 4)) (2021.1)\n",
      "Requirement already satisfied: python-dateutil>=2.7.3 in c:\\users\\user\\anaconda3\\lib\\site-packages (from pandas->-r ./etc/requirements.txt (line 4)) (2.8.1)\n",
      "Requirement already satisfied: six>=1.5 in c:\\users\\user\\anaconda3\\lib\\site-packages (from python-dateutil>=2.7.3->pandas->-r ./etc/requirements.txt (line 4)) (1.15.0)\n",
      "Building wheels for collected packages: sklearn\n",
      "  Building wheel for sklearn (setup.py): started\n",
      "  Building wheel for sklearn (setup.py): finished with status 'done'\n",
      "  Created wheel for sklearn: filename=sklearn-0.0-py2.py3-none-any.whl size=1316 sha256=a12b804138d56ad07c624d86f24ac5d0826b15fd1e5ca7b538bd8520aec43003\n",
      "  Stored in directory: c:\\users\\user\\appdata\\local\\pip\\cache\\wheels\\22\\0b\\40\\fd3f795caaa1fb4c6cb738bc1f56100be1e57da95849bfc897\n",
      "Successfully built sklearn\n",
      "Installing collected packages: sklearn\n",
      "Successfully installed sklearn-0.0\n"
     ]
    }
   ],
   "source": [
    "import warnings\n",
    "warnings.filterwarnings(\"ignore\")\n",
    "\n",
    "# Install prerequisites\n",
    "!pip install -r ./etc/requirements.txt"
   ]
  },
  {
   "cell_type": "code",
   "execution_count": 2,
   "metadata": {
    "ExecuteTime": {
     "start_time": "2019-09-16T08:34:20.795Z"
    }
   },
   "outputs": [
    {
     "name": "stdout",
     "output_type": "stream",
     "text": [
      "Namespace(mode='train')\n",
      "--- START making train features !!! --- \n",
      "[ STEP 1 / STEP 3 ] Integral all DataFrame which served by NC_soft\n"
     ]
    },
    {
     "name": "stderr",
     "output_type": "stream",
     "text": [
      "100%|█████████████████████████████████████████████████████████████████████████████| 5380/5380 [00:23<00:00, 233.55it/s]\n",
      "100%|██████████████████████████████████████████████████████████████████████| 1601834/1601834 [07:12<00:00, 3699.41it/s]\n",
      "100%|█████████████████████████████████████████████████████████████████████████████| 5380/5380 [00:22<00:00, 239.68it/s]\n",
      "100%|██████████████████████████████████████████████████████████████████████| 1601834/1601834 [06:04<00:00, 4396.26it/s]\n"
     ]
    },
    {
     "name": "stdout",
     "output_type": "stream",
     "text": [
      "[ STEP 2 / STEP 3 ] make activity, combat, pledge, trade, payment DataFrame\n",
      "--- Activity Process Done ---\n"
     ]
    },
    {
     "name": "stderr",
     "output_type": "stream",
     "text": [
      "100%|██████████████████████████████████████████████████████████████████████████| 40000/40000 [00:36<00:00, 1110.76it/s]\n",
      "100%|███████████████████████████████████████████████████████████████████████████| 40000/40000 [00:49<00:00, 813.91it/s]\n",
      "100%|██████████████████████████████████████████████████████████████████████████| 40000/40000 [00:14<00:00, 2831.96it/s]\n",
      "  2%|██                                                                                 | 1/40 [00:00<00:05,  7.08it/s]"
     ]
    },
    {
     "name": "stdout",
     "output_type": "stream",
     "text": [
      "--- Combat Process Done ---\n"
     ]
    },
    {
     "name": "stderr",
     "output_type": "stream",
     "text": [
      "100%|██████████████████████████████████████████████████████████████████████████████████| 40/40 [00:05<00:00,  7.50it/s]\n",
      "100%|██████████████████████████████████████████████████████████████████████████████████| 40/40 [00:06<00:00,  6.59it/s]\n",
      "  3%|██▏                                                                                | 1/37 [00:00<00:03,  9.86it/s]"
     ]
    },
    {
     "name": "stdout",
     "output_type": "stream",
     "text": [
      "--- pledge_total generated---\n"
     ]
    },
    {
     "name": "stderr",
     "output_type": "stream",
     "text": [
      "100%|██████████████████████████████████████████████████████████████████████████████████| 37/37 [00:02<00:00, 16.60it/s]\n"
     ]
    },
    {
     "name": "stdout",
     "output_type": "stream",
     "text": [
      "--- pledge Process Done ---\n",
      "--- Trade_df Process Done ---\n",
      "--- Payment_df Process Done ---\n",
      "[ STEP 31 / STEP 3 ] Merge all DataFrame\n",
      "Final_DataFrame's shape (40000, 217)\n",
      "--- train_preprocess.csv were created !!! --- \n"
     ]
    }
   ],
   "source": [
    "# STEP1 Preprocess \n",
    "\n",
    "# 1. train \n",
    "# Final_DataFrame's shape will be (40000, 217)\n",
    "%run ./Preprocess/preprocess.py --mode train"
   ]
  },
  {
   "cell_type": "code",
   "execution_count": 3,
   "metadata": {
    "ExecuteTime": {
     "end_time": "2019-09-10T08:38:50.063137Z",
     "start_time": "2019-09-10T08:35:10.670654Z"
    }
   },
   "outputs": [
    {
     "name": "stdout",
     "output_type": "stream",
     "text": [
      "Namespace(mode='test1')\n",
      "--- START making test1 features !!! --- \n",
      "[ STEP 1 / STEP 3 ] Integral all DataFrame which served by NC_soft\n"
     ]
    },
    {
     "name": "stderr",
     "output_type": "stream",
     "text": [
      "100%|█████████████████████████████████████████████████████████████████████████████| 3108/3108 [00:09<00:00, 326.07it/s]\n",
      "100%|████████████████████████████████████████████████████████████████████████| 709928/709928 [01:21<00:00, 8747.25it/s]\n",
      "100%|█████████████████████████████████████████████████████████████████████████████| 3108/3108 [00:06<00:00, 458.39it/s]\n",
      "100%|████████████████████████████████████████████████████████████████████████| 709928/709928 [01:20<00:00, 8783.45it/s]\n"
     ]
    },
    {
     "name": "stdout",
     "output_type": "stream",
     "text": [
      "[ STEP 2 / STEP 3 ] make activity, combat, pledge, trade, payment DataFrame\n",
      "--- Activity Process Done ---\n"
     ]
    },
    {
     "name": "stderr",
     "output_type": "stream",
     "text": [
      "100%|██████████████████████████████████████████████████████████████████████████| 20000/20000 [00:15<00:00, 1282.70it/s]\n",
      "100%|███████████████████████████████████████████████████████████████████████████| 20000/20000 [00:21<00:00, 910.27it/s]\n",
      "100%|██████████████████████████████████████████████████████████████████████████| 20000/20000 [00:07<00:00, 2819.73it/s]\n",
      "  6%|████▌                                                                              | 2/36 [00:00<00:02, 15.53it/s]"
     ]
    },
    {
     "name": "stdout",
     "output_type": "stream",
     "text": [
      "--- Combat Process Done ---\n"
     ]
    },
    {
     "name": "stderr",
     "output_type": "stream",
     "text": [
      "100%|██████████████████████████████████████████████████████████████████████████████████| 36/36 [00:02<00:00, 15.44it/s]\n",
      "100%|██████████████████████████████████████████████████████████████████████████████████| 36/36 [00:02<00:00, 14.52it/s]\n",
      "  9%|███████▌                                                                           | 3/33 [00:00<00:01, 26.75it/s]"
     ]
    },
    {
     "name": "stdout",
     "output_type": "stream",
     "text": [
      "--- pledge_total generated---\n"
     ]
    },
    {
     "name": "stderr",
     "output_type": "stream",
     "text": [
      "100%|██████████████████████████████████████████████████████████████████████████████████| 33/33 [00:01<00:00, 23.78it/s]\n"
     ]
    },
    {
     "name": "stdout",
     "output_type": "stream",
     "text": [
      "--- pledge Process Done ---\n",
      "--- Trade_df Process Done ---\n",
      "--- Payment_df Process Done ---\n",
      "[ STEP 31 / STEP 3 ] Merge all DataFrame\n",
      "Final_DataFrame's shape (20000, 217)\n",
      "--- test1_preprocess.csv were created !!! --- \n"
     ]
    }
   ],
   "source": [
    "# 2. test1 \n",
    "# Final_DataFrame's shape will be (20000, 217)\n",
    "%run ./Preprocess/preprocess.py --mode test1"
   ]
  },
  {
   "cell_type": "code",
   "execution_count": 4,
   "metadata": {
    "ExecuteTime": {
     "end_time": "2019-09-10T08:47:29.014388Z",
     "start_time": "2019-09-10T08:38:50.065329Z"
    }
   },
   "outputs": [
    {
     "name": "stdout",
     "output_type": "stream",
     "text": [
      "Namespace(mode='test2')\n",
      "--- START making test2 features !!! --- \n",
      "[ STEP 1 / STEP 3 ] Integral all DataFrame which served by NC_soft\n"
     ]
    },
    {
     "name": "stderr",
     "output_type": "stream",
     "text": [
      "100%|█████████████████████████████████████████████████████████████████████████████| 6568/6568 [00:15<00:00, 422.04it/s]\n",
      "100%|████████████████████████████████████████████████████████████████████████| 761888/761888 [05:50<00:00, 2173.50it/s]\n",
      "100%|█████████████████████████████████████████████████████████████████████████████| 6568/6568 [00:16<00:00, 390.57it/s]\n",
      "100%|████████████████████████████████████████████████████████████████████████| 761888/761888 [06:07<00:00, 2070.92it/s]\n"
     ]
    },
    {
     "name": "stdout",
     "output_type": "stream",
     "text": [
      "[ STEP 2 / STEP 3 ] make activity, combat, pledge, trade, payment DataFrame\n",
      "--- Activity Process Done ---\n"
     ]
    },
    {
     "name": "stderr",
     "output_type": "stream",
     "text": [
      "100%|██████████████████████████████████████████████████████████████████████████| 20000/20000 [00:17<00:00, 1128.47it/s]\n",
      "100%|███████████████████████████████████████████████████████████████████████████| 20000/20000 [00:23<00:00, 833.34it/s]\n",
      "100%|██████████████████████████████████████████████████████████████████████████| 20000/20000 [00:06<00:00, 3080.41it/s]\n",
      "  5%|███▉                                                                               | 2/42 [00:00<00:03, 13.19it/s]"
     ]
    },
    {
     "name": "stdout",
     "output_type": "stream",
     "text": [
      "--- Combat Process Done ---\n"
     ]
    },
    {
     "name": "stderr",
     "output_type": "stream",
     "text": [
      "100%|██████████████████████████████████████████████████████████████████████████████████| 42/42 [00:02<00:00, 14.15it/s]\n",
      "100%|██████████████████████████████████████████████████████████████████████████████████| 42/42 [00:03<00:00, 13.26it/s]\n",
      "  8%|██████▉                                                                            | 3/36 [00:00<00:01, 22.92it/s]"
     ]
    },
    {
     "name": "stdout",
     "output_type": "stream",
     "text": [
      "--- pledge_total generated---\n"
     ]
    },
    {
     "name": "stderr",
     "output_type": "stream",
     "text": [
      "100%|██████████████████████████████████████████████████████████████████████████████████| 36/36 [00:01<00:00, 20.47it/s]\n"
     ]
    },
    {
     "name": "stdout",
     "output_type": "stream",
     "text": [
      "--- pledge Process Done ---\n",
      "--- Trade_df Process Done ---\n",
      "--- Payment_df Process Done ---\n",
      "[ STEP 31 / STEP 3 ] Merge all DataFrame\n",
      "Final_DataFrame's shape (20000, 217)\n",
      "--- test2_preprocess.csv were created !!! --- \n"
     ]
    }
   ],
   "source": [
    "# 3. test2\n",
    "# Final_DataFrame's shape will be (20000, 217)\n",
    "\n",
    "%run ./Preprocess/preprocess.py --mode test2"
   ]
  },
  {
   "cell_type": "code",
   "execution_count": 5,
   "metadata": {
    "ExecuteTime": {
     "end_time": "2019-09-10T09:00:16.987463Z",
     "start_time": "2019-09-10T08:48:00.700977Z"
    }
   },
   "outputs": [
    {
     "name": "stdout",
     "output_type": "stream",
     "text": [
      "Namespace(mode='train')\n",
      "--- START create_model.py of train !!! --- \n",
      "[14:15:33] WARNING: C:/Users/Administrator/workspace/xgboost-win64_release_1.4.0/src/learner.cc:573: \n",
      "Parameters: { \"num_leaves\" } might not be used.\n",
      "\n",
      "  This may not be accurate due to some parameters are only used in language bindings but\n",
      "  passed down to XGBoost core.  Or some parameters are not used but slip through this\n",
      "  verification. Please open an issue if you find above cases.\n",
      "\n",
      "\n",
      "create_model.py has been made\n"
     ]
    }
   ],
   "source": [
    "# STEP2 Model \n",
    "\n",
    "%run ./Model/create_model.py"
   ]
  },
  {
   "cell_type": "code",
   "execution_count": 6,
   "metadata": {
    "ExecuteTime": {
     "end_time": "2019-09-10T09:07:44.047228Z",
     "start_time": "2019-09-10T09:07:29.753734Z"
    }
   },
   "outputs": [
    {
     "name": "stdout",
     "output_type": "stream",
     "text": [
      "START survival time__predict\n",
      "END survival time__predict\n",
      "START Amount spent predict\n",
      "test1_predict.csv and test2_predict.csv have been made\n"
     ]
    }
   ],
   "source": [
    "# STEP3 Predict\n",
    "\n",
    "%run ./Predict/predict.py"
   ]
  },
  {
   "cell_type": "code",
   "execution_count": null,
   "metadata": {},
   "outputs": [],
   "source": []
  }
 ],
 "metadata": {
  "kernelspec": {
   "display_name": "Python 3",
   "language": "python",
   "name": "python3"
  },
  "language_info": {
   "codemirror_mode": {
    "name": "ipython",
    "version": 3
   },
   "file_extension": ".py",
   "mimetype": "text/x-python",
   "name": "python",
   "nbconvert_exporter": "python",
   "pygments_lexer": "ipython3",
   "version": "3.8.8"
  },
  "toc": {
   "base_numbering": 1,
   "nav_menu": {},
   "number_sections": true,
   "sideBar": true,
   "skip_h1_title": false,
   "title_cell": "Table of Contents",
   "title_sidebar": "Contents",
   "toc_cell": false,
   "toc_position": {},
   "toc_section_display": true,
   "toc_window_display": false
  }
 },
 "nbformat": 4,
 "nbformat_minor": 2
}
